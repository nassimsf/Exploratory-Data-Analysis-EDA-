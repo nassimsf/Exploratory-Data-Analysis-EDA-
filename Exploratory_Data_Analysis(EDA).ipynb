{
  "nbformat": 4,
  "nbformat_minor": 0,
  "metadata": {
    "colab": {
      "provenance": [],
      "include_colab_link": true
    },
    "kernelspec": {
      "name": "python3",
      "display_name": "Python 3"
    },
    "language_info": {
      "name": "python"
    }
  },
  "cells": [
    {
      "cell_type": "markdown",
      "metadata": {
        "id": "view-in-github",
        "colab_type": "text"
      },
      "source": [
        "<a href=\"https://colab.research.google.com/github/nassimsf/Exploratory-Data-Analysis-EDA-/blob/main/Exploratory_Data_Analysis(EDA).ipynb\" target=\"_parent\"><img src=\"https://colab.research.google.com/assets/colab-badge.svg\" alt=\"Open In Colab\"/></a>"
      ]
    },
    {
      "cell_type": "code",
      "execution_count": null,
      "metadata": {
        "id": "yZYKHQsJax7R"
      },
      "outputs": [],
      "source": [
        "import numpy as np\n",
        "import pandas as pd\n",
        "import matplotlib.pyplot as plt\n",
        "import seaborn as sns\n"
      ]
    },
    {
      "cell_type": "code",
      "source": [
        "from google.colab import drive\n",
        "drive.mount('/content/drive')"
      ],
      "metadata": {
        "colab": {
          "base_uri": "https://localhost:8080/"
        },
        "id": "ZT6plXttXLHa",
        "outputId": "8dc0cad6-ef31-4d81-b157-7c921d1ade20"
      },
      "execution_count": null,
      "outputs": [
        {
          "output_type": "stream",
          "name": "stdout",
          "text": [
            "Mounted at /content/drive\n"
          ]
        }
      ]
    },
    {
      "cell_type": "markdown",
      "source": [
        "# **Exploratory Data Analysis(EDA)**"
      ],
      "metadata": {
        "id": "RT84lz0TRiNJ"
      }
    },
    {
      "cell_type": "markdown",
      "source": [
        "## Data importing "
      ],
      "metadata": {
        "id": "DQsqJzqhR0Um"
      }
    },
    {
      "cell_type": "code",
      "source": [
        "df= pd.read_csv(\"link\")\n"
      ],
      "metadata": {
        "id": "GQw26t1Wc3G5"
      },
      "execution_count": null,
      "outputs": []
    },
    {
      "cell_type": "markdown",
      "source": [
        "# **Part1 : data discovering**"
      ],
      "metadata": {
        "id": "hCNKyqpcR91C"
      }
    },
    {
      "cell_type": "code",
      "source": [
        "df.info()\n",
        "df.head()"
      ],
      "metadata": {
        "id": "r7tuvnJtEof3",
        "colab": {
          "base_uri": "https://localhost:8080/",
          "height": 959
        },
        "outputId": "7d4e6eca-1fdb-428e-9e05-79841d9f3319"
      },
      "execution_count": null,
      "outputs": [
        {
          "output_type": "stream",
          "name": "stdout",
          "text": [
            "<class 'pandas.core.frame.DataFrame'>\n",
            "RangeIndex: 268255 entries, 0 to 268254\n",
            "Data columns (total 25 columns):\n",
            " #   Column             Non-Null Count   Dtype  \n",
            "---  ------             --------------   -----  \n",
            " 0   Maker              268255 non-null  object \n",
            " 1    Genmodel          268255 non-null  object \n",
            " 2    Genmodel_ID       268255 non-null  object \n",
            " 3   Adv_year           268255 non-null  int64  \n",
            " 4   Adv_month          268255 non-null  int64  \n",
            " 5   Color              268255 non-null  object \n",
            " 6   Reg_year           268255 non-null  float64\n",
            " 7   Bodytype           268255 non-null  object \n",
            " 8   Runned_Miles       268255 non-null  int64  \n",
            " 9   Engin_size         268255 non-null  object \n",
            " 10  Gearbox            268255 non-null  object \n",
            " 11  Fuel_type          268255 non-null  object \n",
            " 12  Price              268255 non-null  float64\n",
            " 13  Seat_num           268255 non-null  float64\n",
            " 14  Door_num           268255 non-null  float64\n",
            " 15  issue              268255 non-null  object \n",
            " 16  issue_id           268255 non-null  int64  \n",
            " 17  Adv_day            268255 non-null  int64  \n",
            " 18  breakdown_date     268255 non-null  object \n",
            " 19  repair_complexity  268255 non-null  int64  \n",
            " 20  repair_cost        268255 non-null  float64\n",
            " 21  repair_hours       268255 non-null  float64\n",
            " 22  Label              268255 non-null  int64  \n",
            " 23  category_anomaly   268255 non-null  int64  \n",
            " 24  repair_date        268255 non-null  object \n",
            "dtypes: float64(6), int64(8), object(11)\n",
            "memory usage: 51.2+ MB\n"
          ]
        },
        {
          "output_type": "execute_result",
          "data": {
            "text/plain": [
              "     Maker  Genmodel  Genmodel_ID  Adv_year  Adv_month   Color  Reg_year  \\\n",
              "0  Bentley    Arnage         10_1      2018          4  Silver    2000.0   \n",
              "1  Bentley    Arnage         10_1      2018          6    Grey    2002.0   \n",
              "2  Bentley    Arnage         10_1      2017         11    Blue    2002.0   \n",
              "3  Bentley    Arnage         10_1      2018          4   Green    2003.0   \n",
              "4  Bentley    Arnage         10_1      2017         11    Grey    2003.0   \n",
              "\n",
              "  Bodytype  Runned_Miles Engin_size  ...                   issue issue_id  \\\n",
              "0   Saloon         60000       6.8L  ...     Starter Motor Issue        0   \n",
              "1   Saloon         44000       6.8L  ...        Radiator Leaking        0   \n",
              "2   Saloon         55000       6.8L  ...  Steering Wheel Shaking        0   \n",
              "3   Saloon         14000       6.8L  ...        Electrical Issue        4   \n",
              "4   Saloon         61652       6.8L  ...        Windscreen Crack        0   \n",
              "\n",
              "   Adv_day  breakdown_date  repair_complexity repair_cost  repair_hours  \\\n",
              "0       19      2018-04-19                  3     395.000           9.0   \n",
              "1       15      2018-06-15                  3     695.000           6.0   \n",
              "2       10      2017-11-10                  3      89.999           3.0   \n",
              "3       14      2018-04-14                  3     224.844           6.0   \n",
              "4        6      2017-11-06                  3      75.933           3.0   \n",
              "\n",
              "   Label category_anomaly  repair_date  \n",
              "0      0                0   2018-04-21  \n",
              "1      0                0   2018-06-16  \n",
              "2      0                0   2017-11-10  \n",
              "3      0                0   2018-04-15  \n",
              "4      0                0   2017-11-06  \n",
              "\n",
              "[5 rows x 25 columns]"
            ],
            "text/html": [
              "\n",
              "  <div id=\"df-e3f1ccd9-c641-4cf9-90dc-543d8a07b6d5\">\n",
              "    <div class=\"colab-df-container\">\n",
              "      <div>\n",
              "<style scoped>\n",
              "    .dataframe tbody tr th:only-of-type {\n",
              "        vertical-align: middle;\n",
              "    }\n",
              "\n",
              "    .dataframe tbody tr th {\n",
              "        vertical-align: top;\n",
              "    }\n",
              "\n",
              "    .dataframe thead th {\n",
              "        text-align: right;\n",
              "    }\n",
              "</style>\n",
              "<table border=\"1\" class=\"dataframe\">\n",
              "  <thead>\n",
              "    <tr style=\"text-align: right;\">\n",
              "      <th></th>\n",
              "      <th>Maker</th>\n",
              "      <th>Genmodel</th>\n",
              "      <th>Genmodel_ID</th>\n",
              "      <th>Adv_year</th>\n",
              "      <th>Adv_month</th>\n",
              "      <th>Color</th>\n",
              "      <th>Reg_year</th>\n",
              "      <th>Bodytype</th>\n",
              "      <th>Runned_Miles</th>\n",
              "      <th>Engin_size</th>\n",
              "      <th>...</th>\n",
              "      <th>issue</th>\n",
              "      <th>issue_id</th>\n",
              "      <th>Adv_day</th>\n",
              "      <th>breakdown_date</th>\n",
              "      <th>repair_complexity</th>\n",
              "      <th>repair_cost</th>\n",
              "      <th>repair_hours</th>\n",
              "      <th>Label</th>\n",
              "      <th>category_anomaly</th>\n",
              "      <th>repair_date</th>\n",
              "    </tr>\n",
              "  </thead>\n",
              "  <tbody>\n",
              "    <tr>\n",
              "      <th>0</th>\n",
              "      <td>Bentley</td>\n",
              "      <td>Arnage</td>\n",
              "      <td>10_1</td>\n",
              "      <td>2018</td>\n",
              "      <td>4</td>\n",
              "      <td>Silver</td>\n",
              "      <td>2000.0</td>\n",
              "      <td>Saloon</td>\n",
              "      <td>60000</td>\n",
              "      <td>6.8L</td>\n",
              "      <td>...</td>\n",
              "      <td>Starter Motor Issue</td>\n",
              "      <td>0</td>\n",
              "      <td>19</td>\n",
              "      <td>2018-04-19</td>\n",
              "      <td>3</td>\n",
              "      <td>395.000</td>\n",
              "      <td>9.0</td>\n",
              "      <td>0</td>\n",
              "      <td>0</td>\n",
              "      <td>2018-04-21</td>\n",
              "    </tr>\n",
              "    <tr>\n",
              "      <th>1</th>\n",
              "      <td>Bentley</td>\n",
              "      <td>Arnage</td>\n",
              "      <td>10_1</td>\n",
              "      <td>2018</td>\n",
              "      <td>6</td>\n",
              "      <td>Grey</td>\n",
              "      <td>2002.0</td>\n",
              "      <td>Saloon</td>\n",
              "      <td>44000</td>\n",
              "      <td>6.8L</td>\n",
              "      <td>...</td>\n",
              "      <td>Radiator Leaking</td>\n",
              "      <td>0</td>\n",
              "      <td>15</td>\n",
              "      <td>2018-06-15</td>\n",
              "      <td>3</td>\n",
              "      <td>695.000</td>\n",
              "      <td>6.0</td>\n",
              "      <td>0</td>\n",
              "      <td>0</td>\n",
              "      <td>2018-06-16</td>\n",
              "    </tr>\n",
              "    <tr>\n",
              "      <th>2</th>\n",
              "      <td>Bentley</td>\n",
              "      <td>Arnage</td>\n",
              "      <td>10_1</td>\n",
              "      <td>2017</td>\n",
              "      <td>11</td>\n",
              "      <td>Blue</td>\n",
              "      <td>2002.0</td>\n",
              "      <td>Saloon</td>\n",
              "      <td>55000</td>\n",
              "      <td>6.8L</td>\n",
              "      <td>...</td>\n",
              "      <td>Steering Wheel Shaking</td>\n",
              "      <td>0</td>\n",
              "      <td>10</td>\n",
              "      <td>2017-11-10</td>\n",
              "      <td>3</td>\n",
              "      <td>89.999</td>\n",
              "      <td>3.0</td>\n",
              "      <td>0</td>\n",
              "      <td>0</td>\n",
              "      <td>2017-11-10</td>\n",
              "    </tr>\n",
              "    <tr>\n",
              "      <th>3</th>\n",
              "      <td>Bentley</td>\n",
              "      <td>Arnage</td>\n",
              "      <td>10_1</td>\n",
              "      <td>2018</td>\n",
              "      <td>4</td>\n",
              "      <td>Green</td>\n",
              "      <td>2003.0</td>\n",
              "      <td>Saloon</td>\n",
              "      <td>14000</td>\n",
              "      <td>6.8L</td>\n",
              "      <td>...</td>\n",
              "      <td>Electrical Issue</td>\n",
              "      <td>4</td>\n",
              "      <td>14</td>\n",
              "      <td>2018-04-14</td>\n",
              "      <td>3</td>\n",
              "      <td>224.844</td>\n",
              "      <td>6.0</td>\n",
              "      <td>0</td>\n",
              "      <td>0</td>\n",
              "      <td>2018-04-15</td>\n",
              "    </tr>\n",
              "    <tr>\n",
              "      <th>4</th>\n",
              "      <td>Bentley</td>\n",
              "      <td>Arnage</td>\n",
              "      <td>10_1</td>\n",
              "      <td>2017</td>\n",
              "      <td>11</td>\n",
              "      <td>Grey</td>\n",
              "      <td>2003.0</td>\n",
              "      <td>Saloon</td>\n",
              "      <td>61652</td>\n",
              "      <td>6.8L</td>\n",
              "      <td>...</td>\n",
              "      <td>Windscreen Crack</td>\n",
              "      <td>0</td>\n",
              "      <td>6</td>\n",
              "      <td>2017-11-06</td>\n",
              "      <td>3</td>\n",
              "      <td>75.933</td>\n",
              "      <td>3.0</td>\n",
              "      <td>0</td>\n",
              "      <td>0</td>\n",
              "      <td>2017-11-06</td>\n",
              "    </tr>\n",
              "  </tbody>\n",
              "</table>\n",
              "<p>5 rows × 25 columns</p>\n",
              "</div>\n",
              "      <button class=\"colab-df-convert\" onclick=\"convertToInteractive('df-e3f1ccd9-c641-4cf9-90dc-543d8a07b6d5')\"\n",
              "              title=\"Convert this dataframe to an interactive table.\"\n",
              "              style=\"display:none;\">\n",
              "        \n",
              "  <svg xmlns=\"http://www.w3.org/2000/svg\" height=\"24px\"viewBox=\"0 0 24 24\"\n",
              "       width=\"24px\">\n",
              "    <path d=\"M0 0h24v24H0V0z\" fill=\"none\"/>\n",
              "    <path d=\"M18.56 5.44l.94 2.06.94-2.06 2.06-.94-2.06-.94-.94-2.06-.94 2.06-2.06.94zm-11 1L8.5 8.5l.94-2.06 2.06-.94-2.06-.94L8.5 2.5l-.94 2.06-2.06.94zm10 10l.94 2.06.94-2.06 2.06-.94-2.06-.94-.94-2.06-.94 2.06-2.06.94z\"/><path d=\"M17.41 7.96l-1.37-1.37c-.4-.4-.92-.59-1.43-.59-.52 0-1.04.2-1.43.59L10.3 9.45l-7.72 7.72c-.78.78-.78 2.05 0 2.83L4 21.41c.39.39.9.59 1.41.59.51 0 1.02-.2 1.41-.59l7.78-7.78 2.81-2.81c.8-.78.8-2.07 0-2.86zM5.41 20L4 18.59l7.72-7.72 1.47 1.35L5.41 20z\"/>\n",
              "  </svg>\n",
              "      </button>\n",
              "      \n",
              "  <style>\n",
              "    .colab-df-container {\n",
              "      display:flex;\n",
              "      flex-wrap:wrap;\n",
              "      gap: 12px;\n",
              "    }\n",
              "\n",
              "    .colab-df-convert {\n",
              "      background-color: #E8F0FE;\n",
              "      border: none;\n",
              "      border-radius: 50%;\n",
              "      cursor: pointer;\n",
              "      display: none;\n",
              "      fill: #1967D2;\n",
              "      height: 32px;\n",
              "      padding: 0 0 0 0;\n",
              "      width: 32px;\n",
              "    }\n",
              "\n",
              "    .colab-df-convert:hover {\n",
              "      background-color: #E2EBFA;\n",
              "      box-shadow: 0px 1px 2px rgba(60, 64, 67, 0.3), 0px 1px 3px 1px rgba(60, 64, 67, 0.15);\n",
              "      fill: #174EA6;\n",
              "    }\n",
              "\n",
              "    [theme=dark] .colab-df-convert {\n",
              "      background-color: #3B4455;\n",
              "      fill: #D2E3FC;\n",
              "    }\n",
              "\n",
              "    [theme=dark] .colab-df-convert:hover {\n",
              "      background-color: #434B5C;\n",
              "      box-shadow: 0px 1px 3px 1px rgba(0, 0, 0, 0.15);\n",
              "      filter: drop-shadow(0px 1px 2px rgba(0, 0, 0, 0.3));\n",
              "      fill: #FFFFFF;\n",
              "    }\n",
              "  </style>\n",
              "\n",
              "      <script>\n",
              "        const buttonEl =\n",
              "          document.querySelector('#df-e3f1ccd9-c641-4cf9-90dc-543d8a07b6d5 button.colab-df-convert');\n",
              "        buttonEl.style.display =\n",
              "          google.colab.kernel.accessAllowed ? 'block' : 'none';\n",
              "\n",
              "        async function convertToInteractive(key) {\n",
              "          const element = document.querySelector('#df-e3f1ccd9-c641-4cf9-90dc-543d8a07b6d5');\n",
              "          const dataTable =\n",
              "            await google.colab.kernel.invokeFunction('convertToInteractive',\n",
              "                                                     [key], {});\n",
              "          if (!dataTable) return;\n",
              "\n",
              "          const docLinkHtml = 'Like what you see? Visit the ' +\n",
              "            '<a target=\"_blank\" href=https://colab.research.google.com/notebooks/data_table.ipynb>data table notebook</a>'\n",
              "            + ' to learn more about interactive tables.';\n",
              "          element.innerHTML = '';\n",
              "          dataTable['output_type'] = 'display_data';\n",
              "          await google.colab.output.renderOutput(dataTable, element);\n",
              "          const docLink = document.createElement('div');\n",
              "          docLink.innerHTML = docLinkHtml;\n",
              "          element.appendChild(docLink);\n",
              "        }\n",
              "      </script>\n",
              "    </div>\n",
              "  </div>\n",
              "  "
            ]
          },
          "metadata": {},
          "execution_count": 5
        }
      ]
    },
    {
      "cell_type": "code",
      "source": [
        "df[\"Label\"].unique()"
      ],
      "metadata": {
        "id": "GGRa427hdyFS",
        "colab": {
          "base_uri": "https://localhost:8080/"
        },
        "outputId": "27da97cf-0578-4528-dcc0-cdeb95b0af72"
      },
      "execution_count": null,
      "outputs": [
        {
          "output_type": "execute_result",
          "data": {
            "text/plain": [
              "array([0, 1])"
            ]
          },
          "metadata": {},
          "execution_count": 5
        }
      ]
    },
    {
      "cell_type": "code",
      "source": [
        "df.isnull().sum()"
      ],
      "metadata": {
        "id": "dBAxjRKneHLB"
      },
      "execution_count": null,
      "outputs": []
    },
    {
      "cell_type": "code",
      "source": [
        "plt.figure(figsize=(20,10))\n",
        "plt.title(\"number of registrations per year\")\n",
        "sns.countplot(x = 'Reg_year' , data = df)"
      ],
      "metadata": {
        "id": "ABgH8cduldbw",
        "colab": {
          "base_uri": "https://localhost:8080/",
          "height": 604
        },
        "outputId": "f7da0015-a76a-47c5-c72d-0b3a32e77b9a"
      },
      "execution_count": null,
      "outputs": [
        {
          "output_type": "execute_result",
          "data": {
            "text/plain": [
              "<matplotlib.axes._subplots.AxesSubplot at 0x7f0cf2f67b80>"
            ]
          },
          "metadata": {},
          "execution_count": 7
        },
        {
          "output_type": "display_data",
          "data": {
            "text/plain": [
              "<Figure size 1440x720 with 1 Axes>"
            ],
            "image/png": "[encoded data removed]"
          },
          "metadata": {
            "needs_background": "light"
          }
        }
      ]
    },
    {
      "cell_type": "markdown",
      "source": [],
      "metadata": {
        "id": "-lBIo8ImMJLp"
      }
    },
    {
      "cell_type": "markdown",
      "source": [
        "### **testing if the data is balanced or not**"
      ],
      "metadata": {
        "id": "aslM68o6OiTM"
      }
    },
    {
      "cell_type": "code",
      "source": [
        "sns.countplot(x = 'Label' , data = df)\n"
      ],
      "metadata": {
        "colab": {
          "base_uri": "https://localhost:8080/",
          "height": 296
        },
        "id": "T1SpIsoXxJ1C",
        "outputId": "a72d40fd-218e-4678-f264-2efb7448d1a5"
      },
      "execution_count": null,
      "outputs": [
        {
          "output_type": "execute_result",
          "data": {
            "text/plain": [
              "<matplotlib.axes._subplots.AxesSubplot at 0x7f0cf2e79490>"
            ]
          },
          "metadata": {},
          "execution_count": 9
        },
        {
          "output_type": "display_data",
          "data": {
            "text/plain": [
              "<Figure size 432x288 with 1 Axes>"
            ],
            "image/png": "[encoded data removed]"
          },
          "metadata": {
            "needs_background": "light"
          }
        }
      ]
    },
    {
      "cell_type": "code",
      "source": [
        "df.shape\n",
        "df.columns"
      ],
      "metadata": {
        "id": "Rk6jqLz-uBx5"
      },
      "execution_count": null,
      "outputs": []
    },
    {
      "cell_type": "code",
      "source": [
        "Label=df.Label\n",
        "Label.value_counts()"
      ],
      "metadata": {
        "id": "Jwt8rMVQxTXA",
        "colab": {
          "base_uri": "https://localhost:8080/"
        },
        "outputId": "27ceb817-73a8-4006-a037-09ab5088642d"
      },
      "execution_count": null,
      "outputs": [
        {
          "output_type": "execute_result",
          "data": {
            "text/plain": [
              "0    211506\n",
              "1     56749\n",
              "Name: Label, dtype: int64"
            ]
          },
          "metadata": {},
          "execution_count": 10
        }
      ]
    },
    {
      "cell_type": "markdown",
      "source": [
        "we have an unbalanced data : the label 1's existing is less than 50% of the label 0 "
      ],
      "metadata": {
        "id": "M6ZWwKaXw4TR"
      }
    },
    {
      "cell_type": "markdown",
      "source": [
        "###**testing the outliers in every feature**"
      ],
      "metadata": {
        "id": "vrfq4GuFPECV"
      }
    },
    {
      "cell_type": "code",
      "source": [
        "\n",
        "fig, axs = plt.subplots(3, 4,figsize=(15,15))\n",
        "axs[0, 0].boxplot(df[\"Adv_year\"])\n",
        "axs[0, 0].set_title('adv_year outilers')\n",
        "axs[0, 1].boxplot(df[\"Adv_month\"])\n",
        "axs[0, 1].set_title('Adv_month outliers')\n",
        "axs[1, 0].boxplot(df[\"Runned_Miles\"])\n",
        "axs[1, 0].set_title('Runned_Miles outliers')\n",
        "axs[1, 1].boxplot(df[\"Price\"])\n",
        "axs[1, 1].set_title('Price outliers')\n",
        "axs[0,2].boxplot(df[\"Seat_num\"])\n",
        "axs[0,2].set_title('Seat_num outliers')\n",
        "axs[0,3].boxplot(df[\"Reg_year\"])\n",
        "axs[0,3].set_title('Reg_year outliers ')\n",
        "axs[1,2].boxplot(df[\"Door_num\"])\n",
        "axs[1,2].set_title('Door_num outliers')\n",
        "axs[1,3].boxplot(df[\"issue_id\"])\n",
        "axs[1,3].set_title(\"issue_id outliers\")\n",
        "axs[2,0].boxplot(df[\"Adv_day\"])\n",
        "axs[2,0].set_title(\"Adv_day outliers \")\n",
        "axs[2,1].boxplot(df[\"repair_complexity\"])\n",
        "axs[2,1].set_title(\"repair_complexity outliers \")\n",
        "axs[2,2].boxplot(df[\"repair_cost\"])\n",
        "axs[2,2].set_title(\"repair_cost outliers \")\n",
        "axs[2,3].boxplot(df[\"repair_hours\"])\n",
        "axs[2,3].set_title(\"repair_hours outliers\")\n",
        "fig.suptitle(\"boxplot graph to see the outliers\")\n",
        "plt.show()\n",
        "\n"
      ],
      "metadata": {
        "colab": {
          "base_uri": "https://localhost:8080/",
          "height": 971
        },
        "id": "oRhPHxZS63-i",
        "outputId": "fd066562-100c-4b69-febf-d92ac2542d1f"
      },
      "execution_count": null,
      "outputs": [
        {
          "output_type": "display_data",
          "data": {
            "text/plain": [
              "<Figure size 1080x1080 with 12 Axes>"
            ],
            "image/png": "[encoded data removed]"
          },
          "metadata": {
            "needs_background": "light"
          }
        }
      ]
    },
    {
      "cell_type": "markdown",
      "source": [
        "feature that have Upper Boundary outliers : Adv_month , Reg_year ,Runned_Miles ,Price , repaire hours , door_num\n",
        "\n",
        "feature that have lower Boundary : door_num and reg_year \n",
        "\n",
        "\n"
      ],
      "metadata": {
        "id": "OOQDwYi6PTB4"
      }
    },
    {
      "cell_type": "markdown",
      "source": [
        "## correlation matrix "
      ],
      "metadata": {
        "id": "d5uFzrydVyO4"
      }
    },
    {
      "cell_type": "code",
      "source": [
        "df1=df.drop(columns=[\"Label\",\"category_anomaly\"])\n",
        "plt.figure(figsize=(15,10))\n",
        "sns.heatmap(df1.corr(),annot=True)\n",
        "plt.title(\"correlation matrix\")\n",
        "plt.show()\n"
      ],
      "metadata": {
        "id": "_-g0B_tFSSkz",
        "colab": {
          "base_uri": "https://localhost:8080/",
          "height": 687
        },
        "outputId": "e9a18df4-f84f-4ee8-e139-ebabd366fc0b"
      },
      "execution_count": null,
      "outputs": [
        {
          "output_type": "display_data",
          "data": {
            "text/plain": [
              "<Figure size 1080x720 with 2 Axes>"
            ],
            "image/png": "[encoded data removed]"
          },
          "metadata": {
            "needs_background": "light"
          }
        }
      ]
    },
    {
      "cell_type": "markdown",
      "source": [
        "taking a look to the columns that have object's type"
      ],
      "metadata": {
        "id": "C91eqpBVvO3b"
      }
    },
    {
      "cell_type": "code",
      "source": [
        "print(\"repaire date values\")\n",
        "df.repair_date.unique()\n",
        "print(\"breakdown data values\")\n",
        "df.breakdown_date.unique()\n",
        "print(\"fuel_type values\")\n",
        "df.Fuel_type.unique()\n",
        "print(\"gearbox values\")\n",
        "df.Gearbox.unique()\n",
        "print(\"bodytype values\")\n",
        "df.Bodytype.unique()\n",
        "print(\"color values\")\n",
        "df.Color.unique()\n",
        "print(\"genmodel_id values\")\n",
        "df[\" Genmodel_ID\"].unique()\n",
        "print(\"genmodel values \")\n",
        "df[\" Genmodel\"].unique()"
      ],
      "metadata": {
        "id": "e_YCKhsmvNtc"
      },
      "execution_count": null,
      "outputs": []
    },
    {
      "cell_type": "markdown",
      "source": [
        "Missing values\n",
        "\n"
      ],
      "metadata": {
        "id": "VgMqnyt4wKYI"
      }
    },
    {
      "cell_type": "code",
      "source": [
        "for col in df.columns:\n",
        "    pct_missing = df[col].isnull().mean()\n",
        "    print(f'{col} - {pct_missing :.1%}')"
      ],
      "metadata": {
        "id": "leS0B7j4uQPO"
      },
      "execution_count": null,
      "outputs": []
    },
    {
      "cell_type": "code",
      "source": [
        "# Build a matrix of missing values\n",
        "missingno.matrix(df, fontsize = 16)\n",
        "plt.show()"
      ],
      "metadata": {
        "id": "9GeaRPGouYF9"
      },
      "execution_count": null,
      "outputs": []
    },
    {
      "cell_type": "markdown",
      "source": [
        "Duplicates"
      ],
      "metadata": {
        "id": "AwrDYdwRup10"
      }
    },
    {
      "cell_type": "code",
      "source": [
        "# Forming categorical columns\n",
        "col_name_without_numeric_data = list(df.select_dtypes(exclude=('int', 'float')).columns)\n",
        "print(f'Сolumns without numeric data: {\", \".join(col_name_without_numeric_data)}.')"
      ],
      "metadata": {
        "id": "5RQHl41Gunf4"
      },
      "execution_count": null,
      "outputs": []
    },
    {
      "cell_type": "code",
      "source": [
        "# Let's see the duplicates in the columns\n",
        "for col in col_name_without_numeric_data:\n",
        "    if df[col].duplicated().any() == True:\n",
        "        print (f'Column {col} contains duplicates.')\n",
        "    else:\n",
        "        print (f'Column {col} does not contain duplicates.')"
      ],
      "metadata": {
        "id": "ooUEQg1ru3zi"
      },
      "execution_count": null,
      "outputs": []
    },
    {
      "cell_type": "markdown",
      "source": [
        "Check if the columns contains words in different case and extra spaces.\n",
        "\n"
      ],
      "metadata": {
        "id": "XSW44gYQvBxu"
      }
    },
    {
      "cell_type": "code",
      "source": [
        "# Check if spelling errors have been hit\n",
        "for col in col_name_without_numeric_data:\n",
        "    print(f'Before {col}: {len(set(df[col]))} After {col}: {len(set(df[col].str.title().str.strip()))}')"
      ],
      "metadata": {
        "id": "5Yy3h1gtvCs_"
      },
      "execution_count": null,
      "outputs": []
    },
    {
      "cell_type": "markdown",
      "source": [
        "if we have  typing errors in the a column. Let's fix it."
      ],
      "metadata": {
        "id": "lUcZPLZcvPlc"
      }
    },
    {
      "cell_type": "code",
      "source": [
        "# Correct the errors\n",
        "df.Namecolumn = df.Namecolmun.str.title().str.strip()"
      ],
      "metadata": {
        "id": "YmkaGEvXvYTq"
      },
      "execution_count": null,
      "outputs": []
    },
    {
      "cell_type": "code",
      "source": [
        "# Check if the changes have passed\n",
        "for col in col_name_without_numeric_data:\n",
        "    print(f'Before {col}: {len(set(df[col]))} After {col}: {len(set(df[col].str.title().str.strip()))}')"
      ],
      "metadata": {
        "id": "QPTdr8invw35"
      },
      "execution_count": null,
      "outputs": []
    },
    {
      "cell_type": "markdown",
      "source": [
        "Let's check if there are the same author names but with different spellings.\n",
        "\n"
      ],
      "metadata": {
        "id": "Qi8-miZRwG4T"
      }
    },
    {
      "cell_type": "code",
      "source": [
        "# Check the column Autor\n",
        "namecolumn = df.namecolumn.sort_values().unique()\n",
        "namecolumn"
      ],
      "metadata": {
        "id": "zNbFMqYUwKZF"
      },
      "execution_count": null,
      "outputs": []
    },
    {
      "cell_type": "markdown",
      "source": [
        "value of a column George R. R. Martin, George R.R. Martin and J. K. Rowling, J.K. Rowling have different spellings although they are the same value. Let's fix it.\n",
        "(the values are an example)"
      ],
      "metadata": {
        "id": "BENshNyRx1f5"
      }
    },
    {
      "cell_type": "code",
      "source": [
        "# Let's build a list of the most similar spellings\n",
        "matches_author_name = fuzzywuzzy.process.extract('George R.R. Martin', authors, limit=5, scorer=fuzzywuzzy.fuzz.token_sort_ratio)\n",
        "matches_author_name"
      ],
      "metadata": {
        "id": "J3SlBwyiySgc"
      },
      "execution_count": null,
      "outputs": []
    },
    {
      "cell_type": "markdown",
      "source": [
        "check a year column"
      ],
      "metadata": {
        "id": "_bAFqTpt1UoB"
      }
    },
    {
      "cell_type": "code",
      "source": [
        "# Check the column Year\n",
        "years = list(bestsellers.Year.unique())\n",
        "sorted(years)"
      ],
      "metadata": {
        "id": "28sfbJJy1Sd5"
      },
      "execution_count": null,
      "outputs": []
    },
    {
      "cell_type": "markdown",
      "source": [
        "\n",
        "remove duplication\n"
      ],
      "metadata": {
        "id": "MTrUNMlQ2eER"
      }
    },
    {
      "cell_type": "code",
      "source": [
        "# Remove duplicates and check how many values in a column are left in the data\n",
        "df = df.drop_duplicates(keep='first')\n",
        "df.info()"
      ],
      "metadata": {
        "id": "BZMsAEaG2ekh"
      },
      "execution_count": null,
      "outputs": []
    },
    {
      "cell_type": "code",
      "source": [
        "# Let's count the number of each value of a column in the data\n",
        "count_values = collections.Counter(df.namecolumn.tolist())\n",
        "print(count_values.most_common(11))"
      ],
      "metadata": {
        "id": "3HqPZGHR2uvV"
      },
      "execution_count": null,
      "outputs": []
    },
    {
      "cell_type": "markdown",
      "source": [
        "Сheck with the example of a value : The first_value"
      ],
      "metadata": {
        "id": "PqoXJOfL3RBU"
      }
    },
    {
      "cell_type": "code",
      "source": [
        "# Display information on The first_value \n",
        "bestsellers[bestsellers['Namecolumn'] == 'first_value']"
      ],
      "metadata": {
        "id": "5uWBJ8Xm3WYw"
      },
      "execution_count": null,
      "outputs": []
    },
    {
      "cell_type": "markdown",
      "source": [
        "and now you can if it logical to have more than a row with the same \" first_value\""
      ],
      "metadata": {
        "id": "9A58CXw93yJ2"
      }
    },
    {
      "cell_type": "code",
      "source": [],
      "metadata": {
        "id": "fpgnNmHzVRWl"
      },
      "execution_count": null,
      "outputs": []
    },
    {
      "cell_type": "markdown",
      "source": [
        "## Categorical data"
      ],
      "metadata": {
        "id": "KFFS2DWaVE7H"
      }
    },
    {
      "cell_type": "markdown",
      "source": [
        "in categorical data you to see relation between two features (the highest/ the most/ more /the lowest/ the frequency /top value)"
      ],
      "metadata": {
        "id": "-v2R9Mx4WEnG"
      }
    },
    {
      "cell_type": "markdown",
      "source": [
        "making some variable to use it easily in the plots"
      ],
      "metadata": {
        "id": "UrFZqE32aGRO"
      }
    },
    {
      "cell_type": "code",
      "source": [
        "# We take all authors with the highest average rating\n",
        "top_13_vlaue = df.groupby('Author')[['User Rating']].mean()\\\n",
        "                                                              .sort_values('User Rating', ascending=False)\\\n",
        "                                                              .head(13)\\\n",
        "                                                              .reset_index()\n",
        "# We take the authors who have written the most bestsellers\n",
        "number_of_books_written = df.groupby('Author')[['Name']].count()\\\n",
        "                                                                 .sort_values('Name', ascending=False)\\\n",
        "                                                                 .head(10)\\\n",
        "                                                                 .reset_index()\n",
        "\n",
        "# We take books with the number of reviews\n",
        "books_with_the_number_of_reviews = df.groupby('Name')[['Reviews']].sum()\\\n",
        "                                                                           .sort_values('Reviews', ascending=False)\\\n",
        "                                                                           .head(5)\\\n",
        "                                                                           .reset_index()\n",
        "\n",
        "# We take the number of books by genre\n",
        "number_of_books_by_genre = df.groupby('Genre')[['Name']].count()\\\n",
        "                                                                 .sort_values('Name', ascending=False)\\\n",
        "                                                                 .head(10)\\\n",
        "                                                                 .reset_index()"
      ],
      "metadata": {
        "id": "RFFpHZTEZuGV"
      },
      "execution_count": null,
      "outputs": []
    },
    {
      "cell_type": "markdown",
      "source": [
        "the code above is an exemple from an ancient project you only have to emplement it with your uses case and your variable "
      ],
      "metadata": {
        "id": "v25-8kdiaY0C"
      }
    },
    {
      "cell_type": "code",
      "source": [
        "# Let's set the visualization parameters\n",
        "fig_1 = make_subplots(rows=1, cols=1, subplot_titles=(\"\")) # Let's set the number of rows and columns\n",
        "\n",
        "\n",
        "# Setting table parameters\n",
        "fig_1.add_trace(go.Table(columnorder = [1,2],\n",
        "                         columnwidth = [100,50],\n",
        "                         header=dict(values=top_13_autors.columns, \n",
        "                                     line_color='darkslategray',\n",
        "                                     fill_color='Salmon',\n",
        "                                     height=30),\n",
        "                         cells=dict(values=[top_13_autors['Author'],\n",
        "                                    top_13_autors['User Rating']], \n",
        "                                    line_color='darkslategray',\n",
        "                                    fill_color='White')))\n",
        "\n",
        "# Setting the parameters of the chart when displaying\n",
        "fig_1.update_layout(showlegend=False, \n",
        "                    title_text='Top 13 best authors', \n",
        "                    title_font_size=16, \n",
        "                    title_font_family='Arial', \n",
        "                    title_x=0.5,\n",
        "                    font=dict(family='Arial', \n",
        "                              size=12, \n",
        "                              color='black'))\n",
        "\n",
        "# Displaying the graph\n",
        "fig_1.show()\n",
        "\n",
        "# Let's set the visualization parameters\n",
        "fig_2 = make_subplots(rows=1, cols=2,\n",
        "                      specs=[[{'type': 'xy'}, {\"type\": \"xy\"}]],\n",
        "                      subplot_titles=(\"Top 10 authors by number of bestsellers\", \n",
        "                                      \"Top 5 books by number of reviews\"))\n",
        "\n",
        "# Setting Bar parameters\n",
        "fig_2.add_trace(go.Bar(x=number_of_books_written['Author'], \n",
        "                       y=number_of_books_written['Name'],\n",
        "                       name ='Count books',\n",
        "                       marker_color=['#ff6666','#f76e6e', '#f07575', '#e87d7d', '#e08585',\n",
        "                                     '#d98c8c', '#d19494', '#c99c9c', '#c2a3a3', '#baabab']),\n",
        "                       row=1, col=1)\n",
        "\n",
        "# Setting Bar parameters\n",
        "fig_2.add_trace(go.Bar(x=books_with_the_number_of_reviews['Name'], \n",
        "                       y=books_with_the_number_of_reviews['Reviews'],\n",
        "                       marker_color=['#ff6666','#f47171', '#e87d7d', '#dd8888', '#d19494'],\n",
        "                       name ='Reviews'),\n",
        "                       row=1, col=2)\n",
        "\n",
        "# Setting the parameters of the chart when displaying\n",
        "fig_2.update_traces(marker_line_color='Gray',\n",
        "                    marker_line_width=1)\n",
        "\n",
        "# Setting the parameters of the chart when displaying\n",
        "fig_2.update_layout(showlegend=False, \n",
        "                    plot_bgcolor='rgba(0,0,0,0)',\n",
        "                    font=dict(family='Arial', \n",
        "                              size=12, \n",
        "                              color='black'))\n",
        "\n",
        "# Displaying the graph\n",
        "fig_2.show()\n",
        "\n",
        "# Let's set the visualization parameters\n",
        "fig_3 = make_subplots(rows=1, cols=1,\n",
        "                      specs=[[{'type': 'domain'}]],\n",
        "                      subplot_titles=(\"\"))\n",
        "\n",
        "# Setting Pie parameters\n",
        "fig_3.add_trace(go.Pie(values=number_of_books_by_genre['Name'],\n",
        "                       title='Genre',\n",
        "                       labels=['Non Fiction', 'Fiction'],\n",
        "                       textinfo='label+percent',\n",
        "                       insidetextorientation='radial',\n",
        "                       hole=0.3,\n",
        "                       marker=dict(colors=['Gray','Salmon'], \n",
        "                                   line_color='Gray', \n",
        "                                   line_width=1),\n",
        "                       textfont={'color': '#FFFFFF', 'size': 12},\n",
        "                       textfont_size=12))\n",
        "\n",
        "# Setting the parameters of the chart when displaying\n",
        "fig_3.update_layout(margin_t=30, \n",
        "                    showlegend=False, \n",
        "                    title_text='Count of books genre', \n",
        "                    title_x=0.5, \n",
        "                    font=dict(family='Arial', \n",
        "                              size=12, \n",
        "                              color='black'))\n",
        "\n",
        "# Displaying the graph\n",
        "fig_3.show()"
      ],
      "metadata": {
        "id": "Yt3Qi9zBaSbi"
      },
      "execution_count": null,
      "outputs": []
    },
    {
      "cell_type": "markdown",
      "source": [
        "this will show you these relation graphs that we talked about"
      ],
      "metadata": {
        "id": "jFvyDAqqa9gT"
      }
    },
    {
      "cell_type": "markdown",
      "source": [
        "## numeric data"
      ],
      "metadata": {
        "id": "2FpOCizKaCG-"
      }
    },
    {
      "cell_type": "markdown",
      "source": [
        "Let's look at the measures of the central trend that characterize the distribution of numerical values in the data. We render a box-plot for each numeric variable."
      ],
      "metadata": {
        "id": "q174HEuyih33"
      }
    },
    {
      "cell_type": "code",
      "source": [
        "df.describe()\n",
        "#or df.describe().T"
      ],
      "metadata": {
        "id": "womD_FnfiXDC"
      },
      "execution_count": null,
      "outputs": []
    },
    {
      "cell_type": "code",
      "source": [
        "# Let's set the visualization parameters\n",
        "fig_4 = make_subplots(rows=1, cols=1, specs=[[{'type': 'xy'}]])\n",
        "\n",
        "# Setting Box parameters\n",
        "fig_4.add_trace(go.Box(x=df['User Rating'], \n",
        "                       name='User Rating'))\n",
        "\n",
        "# Setting the parameters of the Box when displaying\n",
        "fig_4.update_traces(marker_color='Salmon')\n",
        "\n",
        "# Setting the parameters of the Box when displaying\n",
        "fig_4.update_layout(showlegend=False, \n",
        "                    template='simple_white', \n",
        "                    font=dict(family='Arial', \n",
        "                              size=12, \n",
        "                              color='black'))\n",
        "\n",
        "# Displaying the Box\n",
        "fig_4.show()\n",
        "\n",
        "# Let's set the visualization parameters\n",
        "fig_5 = make_subplots(rows=1, cols=1, specs=[[{'type': 'xy'}]])\n",
        "\n",
        "# Setting Box parameters\n",
        "fig_5.add_trace(go.Box(x=df['Reviews'], \n",
        "                       name='Reviews'))\n",
        "\n",
        "# Setting the parameters of the Box when displaying\n",
        "fig_5.update_traces(marker_color='Salmon')\n",
        "\n",
        "# Setting the parameters of the Box when displaying\n",
        "fig_5.update_layout(showlegend=False, \n",
        "                    template='simple_white', \n",
        "                    font=dict(family='Arial', \n",
        "                              size=12, \n",
        "                              color='black'))\n",
        "\n",
        "# Displaying the Box\n",
        "fig_5.show()\n",
        "\n",
        "# Let's set the visualization parameters\n",
        "fig_6 = make_subplots(rows=1, cols=1, specs=[[{'type': 'xy'}]])\n",
        "\n",
        "# Setting Box parameters\n",
        "fig_6.add_trace(go.Box(x=df['Price'], \n",
        "                       name='Price'))\n",
        "\n",
        "# Setting the parameters of the Box when displaying\n",
        "fig_6.update_traces(marker_color='Salmon')\n",
        "\n",
        "# Setting the parameters of the Box when displaying\n",
        "fig_6.update_layout(showlegend=False, \n",
        "                    template='simple_white', \n",
        "                    font=dict(family='Arial', \n",
        "                              size=12, \n",
        "                              color='black'))\n",
        "\n",
        "# Displaying the Box\n",
        "fig_6.show()"
      ],
      "metadata": {
        "id": "YyWencl5iuf9"
      },
      "execution_count": null,
      "outputs": []
    },
    {
      "cell_type": "markdown",
      "source": [
        "SO now you can analyze the numeric data how it is established:"
      ],
      "metadata": {
        "id": "5-cSpHeai-rq"
      }
    },
    {
      "cell_type": "markdown",
      "source": [
        "Let's look at the correlation in the data."
      ],
      "metadata": {
        "id": "BiKo-yDwjYNa"
      }
    },
    {
      "cell_type": "code",
      "source": [
        "# Building a correlation matrix and building a correlation matrix and visualizing relationships\n",
        "bestsellers.corr()"
      ],
      "metadata": {
        "id": "2p5tir4-jZf_"
      },
      "execution_count": null,
      "outputs": []
    },
    {
      "cell_type": "markdown",
      "source": [
        "as well the constructed visualizations"
      ],
      "metadata": {
        "id": "7myJgz4_kGk5"
      }
    },
    {
      "cell_type": "code",
      "source": [
        "# Let's set the visualization parameters\n",
        "fig_7 = make_subplots(rows=1, cols=1, specs=[[{'type': 'xy'}]])\n",
        "\n",
        "# Setting Scatter parameters\n",
        "fig_7.add_trace(go.Scattergl(x=bestsellers['User Rating'],\n",
        "                             y=bestsellers['Reviews'],\n",
        "                             mode='markers',\n",
        "                             marker_color='salmon'))\n",
        "\n",
        "# Setting the parameters of the Scatter when displaying\n",
        "fig_7.update_layout(template='simple_white',\n",
        "                    showlegend=False, \n",
        "                    xaxis = {'title':'User Rating'}, \n",
        "                    yaxis = {'title':'Reviews'},\n",
        "                    font=dict(family='Arial', \n",
        "                              size=12, \n",
        "                              color='black'))\n",
        "\n",
        "# Displaying the Scatter\n",
        "fig_7.show()\n",
        "\n",
        "# Let's set the visualization parameters\n",
        "fig_8 = make_subplots(rows=1, cols=1, specs=[[{'type': 'xy'}]])\n",
        "\n",
        "# Setting Scatter parameters\n",
        "fig_8.add_trace(go.Scattergl(x=bestsellers['User Rating'],\n",
        "                             y=bestsellers['Price'],\n",
        "                             mode='markers',\n",
        "                             marker_color='salmon'))\n",
        "\n",
        "# Setting the parameters of the Scatter when displaying\n",
        "fig_8.update_layout(template='simple_white',\n",
        "                    showlegend=False,\n",
        "                    xaxis = {'title':'User Rating'}, \n",
        "                    yaxis = {'title':'Price'},\n",
        "                    font=dict(family='Arial', \n",
        "                              size=12, \n",
        "                              color='black'))\n",
        "\n",
        "# Displaying the Scatter\n",
        "fig_8.show()\n",
        "\n",
        "# Let's set the visualization parameters\n",
        "fig_9 = make_subplots(rows=1, cols=1, specs=[[{'type': 'xy'}]])\n",
        "\n",
        "# Setting Scatter parameters\n",
        "fig_9.add_trace(go.Scattergl(x=bestsellers['Price'],\n",
        "                             y=bestsellers['Reviews'],\n",
        "                             mode='markers',\n",
        "                             marker_color='salmon'))\n",
        "\n",
        "# Setting the parameters of the Scatter when displaying\n",
        "fig_9.update_layout(template='simple_white',\n",
        "                    showlegend=False, \n",
        "                    xaxis = {'title':'Price'}, \n",
        "                    yaxis = {'title':'Reviews'},\n",
        "                    font=dict(family='Arial', size=12, color='black'))\n",
        "\n",
        "# Displaying the Scatter\n",
        "fig_9.show()"
      ],
      "metadata": {
        "id": "vYLYoZwFkFwi"
      },
      "execution_count": null,
      "outputs": []
    },
    {
      "cell_type": "markdown",
      "source": [
        "Based on the constructed correlation matrix as well as the constructed visualizations, it can be seen that the data if it  contains any positive or negative linear relationship between the 3 features"
      ],
      "metadata": {
        "id": "L1qW0SSUkVvt"
      }
    },
    {
      "cell_type": "markdown",
      "source": [
        "#**Part 2 :data cleaning** "
      ],
      "metadata": {
        "id": "ybwjkLH9c89k"
      }
    },
    {
      "cell_type": "markdown",
      "source": [
        "droping outliers "
      ],
      "metadata": {
        "id": "fPpYoJXRJdEv"
      }
    },
    {
      "cell_type": "markdown",
      "source": [
        "function to drop "
      ],
      "metadata": {
        "id": "echfmQBllUAN"
      }
    },
    {
      "cell_type": "code",
      "source": [
        "def drop_outliers(df, field_name):\n",
        "  iqr=1.5*(np.percentile(df[field_name],75)-np.percentile(df[field_name],25))\n",
        "  df.drop(df[df[field_name]>(iqr + np.percentile(df[field_name],75))].index, inplace=True)\n",
        "  df.drop(df[df[field_name]<(np.percentile(df[field_name],25)-iqr)].index,inplace=True)\n"
      ],
      "metadata": {
        "id": "5_ewruOMTDGT"
      },
      "execution_count": null,
      "outputs": []
    },
    {
      "cell_type": "markdown",
      "source": [
        "droping using the fuction"
      ],
      "metadata": {
        "id": "Wzdr-9b5lWAX"
      }
    },
    {
      "cell_type": "code",
      "source": [
        "drop_outliers(df,\"namecolumn\")\n"
      ],
      "metadata": {
        "id": "UIyE5iNXhFaZ"
      },
      "execution_count": null,
      "outputs": []
    },
    {
      "cell_type": "markdown",
      "source": [
        "observing the result "
      ],
      "metadata": {
        "id": "Tqwx98ZHlb90"
      }
    },
    {
      "cell_type": "code",
      "source": [
        "\n",
        "fig, axs = plt.subplots(2,3,figsize=(15,15))\n",
        "axs[0, 0].boxplot(df[\"Adv_month\"])\n",
        "axs[0, 0].set_title('Adv_month')\n",
        "axs[0, 1].boxplot(df[\"Reg_year\"])\n",
        "axs[0, 1].set_title('Reg_year')\n",
        "axs[1, 0].boxplot(df[\"Runned_Miles\"])\n",
        "axs[1, 0].set_title('Runned_Miles')\n",
        "axs[1, 1].boxplot(df[\"Price\"])\n",
        "axs[1, 1].set_title('Price')\n",
        "axs[1, 2].boxplot(df[\"repair_hours\"])\n",
        "axs[1, 2].set_title('repair_hours')\n",
        "axs[0, 2].boxplot(df[\"Door_num\"])\n",
        "axs[0, 2].set_title('Door_num')\n",
        "fig.suptitle(\"the result after droping the outliers\")"
      ],
      "metadata": {
        "id": "CcCQETjjha-m",
        "colab": {
          "base_uri": "https://localhost:8080/",
          "height": 988
        },
        "outputId": "8ee84f98-921a-46cf-8e87-ad27ebf8d15e"
      },
      "execution_count": null,
      "outputs": [
        {
          "output_type": "execute_result",
          "data": {
            "text/plain": [
              "Text(0.5, 0.98, 'the result after droping the outliers')"
            ]
          },
          "metadata": {},
          "execution_count": 16
        },
        {
          "output_type": "display_data",
          "data": {
            "text/plain": [
              "<Figure size 1080x1080 with 6 Axes>"
            ],
            "image/png": "[encoded data removed]"
          },
          "metadata": {
            "needs_background": "light"
          }
        }
      ]
    },
    {
      "cell_type": "markdown",
      "source": [
        "replacing  the outliers  of a feature with the mean (the 24 condition is just for this problem )"
      ],
      "metadata": {
        "id": "9rSs0i6eNtT7"
      }
    },
    {
      "cell_type": "code",
      "source": [
        "from statistics import mean\n",
        "engin=df['Engin_size']\n",
        "engin_int=[]\n",
        "for i in engin:\n",
        "    i=i[0:-1]\n",
        "    i=float(i)\n",
        "    engin_int.append(i)\n",
        "\n",
        "\n",
        "s=([s for s in engin_int if s<=24.0 ])\n",
        "moy=mean(s)\n",
        "L=[]\n",
        "for i in engin_int : \n",
        "  if i >24 : \n",
        "    L.append(moy)\n",
        "  else : \n",
        "    L.append(i) \n",
        "\n",
        "x = np.array(L)\n",
        "print(np.unique(L))\n"
      ],
      "metadata": {
        "id": "fKjM9Ih6HhdV",
        "colab": {
          "base_uri": "https://localhost:8080/"
        },
        "outputId": "b0116acc-1547-4592-cc17-03ff4d1867e3"
      },
      "execution_count": null,
      "outputs": [
        {
          "output_type": "stream",
          "name": "stdout",
          "text": [
            "[ 0.1         0.3         0.6         0.66        0.7         0.8\n",
            "  0.9         1.          1.1         1.2         1.25        1.3\n",
            "  1.33        1.4         1.5         1.6         1.7         1.8\n",
            "  1.9         1.93390544  2.          2.1         2.2         2.3\n",
            "  2.4         2.5         2.6         2.7         2.8         2.9\n",
            "  3.          3.1         3.2         3.3         3.4         3.5\n",
            "  3.6         3.7         3.8         3.9         4.          4.2\n",
            "  4.3         4.4         4.5         4.6         4.7         4.8\n",
            "  4.9         5.          5.2         5.3         5.4         5.5\n",
            "  5.7         5.8         5.9         6.          6.1         6.2\n",
            "  6.3         6.4         6.5         6.6         6.7         6.75\n",
            "  6.8         6.9         7.          8.          8.2        10.        ]\n"
          ]
        }
      ]
    },
    {
      "cell_type": "code",
      "source": [
        "df.drop(columns=\"Engin_size\",axis=1,inplace=True)\n",
        "df[\"Engin_size\"]=L"
      ],
      "metadata": {
        "id": "dTAi-FrOtgVz"
      },
      "execution_count": null,
      "outputs": []
    },
    {
      "cell_type": "markdown",
      "source": [],
      "metadata": {
        "id": "efFiNhFS2TYk"
      }
    },
    {
      "cell_type": "markdown",
      "source": [
        "# **Part3 :  Data Transformation**"
      ],
      "metadata": {
        "id": "5KPvQlPq23CS"
      }
    },
    {
      "cell_type": "markdown",
      "source": [
        "converting the categorical \"objects\" to numeric \"int32\""
      ],
      "metadata": {
        "id": "M4cbwEEVl9Pr"
      }
    },
    {
      "cell_type": "code",
      "source": [
        "from sklearn.preprocessing import LabelEncoder\n",
        "le1 = LabelEncoder()\n",
        "b= le1.fit_transform(df[\"Fuel_type\"]) \n",
        "df[\"Fuel_type\"] = b.reshape(-1,1)\n",
        "c = le1.fit_transform(df[\"Gearbox\"]) \n",
        "df[\"Gearbox\"] = c.reshape(-1,1)\n",
        "d = le1.fit_transform(df[\"Bodytype\"]) \n",
        "df[\"Bodytype\"]= d.reshape(-1,1)\n",
        "e = le1.fit_transform(df[\"Color\"]) \n",
        "df[\"Color\"] = e.reshape(-1,1)\n",
        "f = le1.fit_transform(df[\" Genmodel_ID\"]) \n",
        "df[\" Genmodel_ID\"] = f.reshape(-1,1)\n",
        "g = le1.fit_transform(df[\" Genmodel\"]) \n",
        "df[\" Genmodel\"] = g.reshape(-1,1)\n",
        "h = le1.fit_transform(df[\"issue\"]) \n",
        "df[\"issue\"] = h.reshape(-1,1)\n",
        "i = le1.fit_transform(df[\"Maker\"]) \n",
        "df[\"Maker\"] = i.reshape(-1,1)\n"
      ],
      "metadata": {
        "id": "goulRgLy0nfk"
      },
      "execution_count": null,
      "outputs": []
    },
    {
      "cell_type": "markdown",
      "source": [
        "# **Part4 : Feature Engineering**"
      ],
      "metadata": {
        "id": "6UT8gG3lhHuR"
      }
    },
    {
      "cell_type": "markdown",
      "source": [
        "manipulating some date type "
      ],
      "metadata": {
        "id": "7OG6tn2mme4Z"
      }
    },
    {
      "cell_type": "code",
      "source": [
        "from datetime import datetime\n",
        "breakdown_date=[]\n",
        "for i in df[\"breakdown_date\"]:\n",
        "  breakdown_date.append(datetime.strptime(i, \"%Y-%m-%d\"))\n",
        "breakdown_year=[]\n",
        "breakdown_month=[]\n",
        "breakdown_day=[]\n",
        "for i in breakdown_date :\n",
        "  breakdown_year.append(i.year)\n",
        "  breakdown_month.append(i.month)\n",
        "  breakdown_day.append(i.day)"
      ],
      "metadata": {
        "id": "weYZRFqXa9Ax"
      },
      "execution_count": null,
      "outputs": []
    },
    {
      "cell_type": "code",
      "source": [
        "df[\"breakdown_year\"]=breakdown_year\n",
        "df[\"breakdown_month\"]=breakdown_month\n",
        "df[\"breakdown_day\"]=breakdown_day"
      ],
      "metadata": {
        "id": "gtf-D9svgEmi"
      },
      "execution_count": null,
      "outputs": []
    },
    {
      "cell_type": "code",
      "source": [
        "from datetime import datetime\n",
        "repair_date=[]\n",
        "for i in df[\"repair_date\"]:\n",
        "  repair_date.append(datetime.strptime(i, \"%Y-%m-%d\"))\n",
        "repair_year=[]\n",
        "repair_month=[]\n",
        "repair_day=[]\n",
        "for i in repair_date :\n",
        "  repair_year.append(i.year)\n",
        "  repair_month.append(i.month)\n",
        "  repair_day.append(i.day)\n",
        "df[\"repair_year\"]=repair_year\n",
        "df[\"repair_month\"]=repair_month\n",
        "df[\"repair_day\"]=repair_day"
      ],
      "metadata": {
        "id": "4GjmWUHiasRk"
      },
      "execution_count": null,
      "outputs": []
    },
    {
      "cell_type": "code",
      "source": [
        "df.drop(columns=\"breakdown_date\",axis=1,inplace=True)\n",
        "df.drop(columns=\"repair_date\",axis=1,inplace=True)"
      ],
      "metadata": {
        "id": "FRPRokVLa0DK"
      },
      "execution_count": null,
      "outputs": []
    },
    {
      "cell_type": "markdown",
      "source": [
        "also converting some time to timestamps"
      ],
      "metadata": {
        "id": "yL9RbcqGmx7g"
      }
    },
    {
      "cell_type": "code",
      "source": [
        "from datetime import datetime\n",
        "time=[]\n",
        "\n",
        "for i in df[\"timestamp\"]:\n",
        "    d=i[:-7]\n",
        "    sdate=(datetime.strptime(d, \"%Y-%m-%d %H:%M:%S\"))\n",
        "    time.append(sdate.timestamp())"
      ],
      "metadata": {
        "id": "BveX1Jm6m99A"
      },
      "execution_count": null,
      "outputs": []
    },
    {
      "cell_type": "markdown",
      "source": [
        "if you want to sort ur data by the timestamps "
      ],
      "metadata": {
        "id": "3Ae42FCvnB0w"
      }
    },
    {
      "cell_type": "code",
      "source": [
        "df.sort_values(by=[\"timestamp\"],axis=0,inplace=False,kind='quicksort')"
      ],
      "metadata": {
        "id": "i_A1HBoSnkp9"
      },
      "execution_count": null,
      "outputs": []
    },
    {
      "cell_type": "code",
      "source": [
        "df.info()"
      ],
      "metadata": {
        "id": "QQg-bZIdik3W"
      },
      "execution_count": null,
      "outputs": []
    },
    {
      "cell_type": "markdown",
      "source": [
        "As we can see all our data are  non_null ,  all numeric annd all the outilers are cleaned \n",
        "==>we can pass the last part wich is model building "
      ],
      "metadata": {
        "id": "MKjQFgHPlIep"
      }
    },
    {
      "cell_type": "markdown",
      "source": [
        "# **Part5 : model building (XGBOOST)**"
      ],
      "metadata": {
        "id": "SURCmXq6lqnA"
      }
    },
    {
      "cell_type": "markdown",
      "source": [
        "feature extraction"
      ],
      "metadata": {
        "id": "OC81ypRfkrHA"
      }
    },
    {
      "cell_type": "code",
      "source": [
        "label=df[\"Label\"]\n",
        "features=df.drop(columns=\"Label\",axis=1,inplace=False)\n",
        "from sklearn.model_selection import train_test_split\n",
        "data_train, data_test, label_train , label_test = train_test_split(features,label,test_size=0.33,random_state=1)"
      ],
      "metadata": {
        "id": "PBejPOM4jGWU"
      },
      "execution_count": null,
      "outputs": []
    },
    {
      "cell_type": "markdown",
      "source": [
        "model building, training , prediction"
      ],
      "metadata": {
        "id": "nMyVAh6ikvYq"
      }
    },
    {
      "cell_type": "code",
      "source": [
        "from xgboost import XGBClassifier\n",
        "model = XGBClassifier()\n",
        "model.fit(data_train, label_train)\n",
        "pred = model.predict(data_test)"
      ],
      "metadata": {
        "id": "aXJ9pxDRjUBE"
      },
      "execution_count": null,
      "outputs": []
    },
    {
      "cell_type": "markdown",
      "source": [
        "Testing the prediction occuracy "
      ],
      "metadata": {
        "id": "ryVmlHZOkySd"
      }
    },
    {
      "cell_type": "code",
      "source": [
        "from sklearn.metrics import accuracy_score\n",
        "ACC = accuracy_score(label_test, pred)*100\n",
        "print(ACC)"
      ],
      "metadata": {
        "colab": {
          "base_uri": "https://localhost:8080/"
        },
        "id": "U5-8cMZZkL3g",
        "outputId": "1493e874-16d4-43a3-cb5c-427e5e3f9db5"
      },
      "execution_count": null,
      "outputs": [
        {
          "output_type": "stream",
          "name": "stdout",
          "text": [
            "98.41651603650976\n"
          ]
        }
      ]
    }
  ]
}